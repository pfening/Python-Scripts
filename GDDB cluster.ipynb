{
 "cells": [
  {
   "cell_type": "code",
   "execution_count": 7,
   "metadata": {},
   "outputs": [],
   "source": [
    "import tensorflow as tf\n",
    "import numpy as np\n",
    "import pandas as pd\n",
    "import sklearn as sk\n",
    "from keras.models import Sequential\n",
    "from keras.layers import Dense\n",
    "from keras.utils import np_utils\n",
    "from sklearn.preprocessing import LabelEncoder\n",
    "from sklearn.pipeline import Pipeline\n",
    "from sklearn.preprocessing import MinMaxScaler\n",
    "from sklearn.model_selection import train_test_split\n",
    "from sklearn import preprocessing\n",
    "from sklearn.pipeline import make_pipeline\n",
    "from sklearn.preprocessing import Normalizer\n",
    "from sklearn.cluster import KMeans\n",
    "import seaborn as sns\n",
    "import re\n",
    "import matplotlib.pyplot as plt\n",
    "%matplotlib inline"
   ]
  },
  {
   "cell_type": "code",
   "execution_count": 8,
   "metadata": {},
   "outputs": [
    {
     "data": {
      "text/html": [
       "<div>\n",
       "<style>\n",
       "    .dataframe thead tr:only-child th {\n",
       "        text-align: right;\n",
       "    }\n",
       "\n",
       "    .dataframe thead th {\n",
       "        text-align: left;\n",
       "    }\n",
       "\n",
       "    .dataframe tbody tr th {\n",
       "        vertical-align: top;\n",
       "    }\n",
       "</style>\n",
       "<table border=\"1\" class=\"dataframe\">\n",
       "  <thead>\n",
       "    <tr style=\"text-align: right;\">\n",
       "      <th></th>\n",
       "      <th>USERNAME</th>\n",
       "      <th>EVENT_ID</th>\n",
       "      <th>TARGET_ACCOUNT</th>\n",
       "      <th>TARGET_UNIQUE_ID</th>\n",
       "      <th>TARGET_GENDER</th>\n",
       "      <th>GDDB_ROLE</th>\n",
       "      <th>GDDB_ROLE_SPECIAL</th>\n",
       "      <th>LABEL</th>\n",
       "    </tr>\n",
       "  </thead>\n",
       "  <tbody>\n",
       "    <tr>\n",
       "      <th>0</th>\n",
       "      <td>TROMMRE1</td>\n",
       "      <td>GDDB04</td>\n",
       "      <td>EUNET/BOHNSRO1</td>\n",
       "      <td>BOHNSRO1</td>\n",
       "      <td>Person</td>\n",
       "      <td>ROLE_GDDB_ADMINISTRATOR - none - HELPDESK</td>\n",
       "      <td>STANDARD</td>\n",
       "      <td>incident</td>\n",
       "    </tr>\n",
       "    <tr>\n",
       "      <th>1</th>\n",
       "      <td>TROMMRE1</td>\n",
       "      <td>GDDB04</td>\n",
       "      <td>EUNET/KOENIKO1</td>\n",
       "      <td>KOENIKO1</td>\n",
       "      <td>Person</td>\n",
       "      <td>ROLE_GDDB_ADMINISTRATOR - none - HELPDESK</td>\n",
       "      <td>STANDARD</td>\n",
       "      <td>incident</td>\n",
       "    </tr>\n",
       "    <tr>\n",
       "      <th>2</th>\n",
       "      <td>COLLAAR1</td>\n",
       "      <td>GDDB04</td>\n",
       "      <td>NANET/CUARTJO1</td>\n",
       "      <td>CUARTJO1</td>\n",
       "      <td>Person</td>\n",
       "      <td>ROLE_GDDB_ADMINISTRATOR - none - HELPDESK</td>\n",
       "      <td>STANDARD</td>\n",
       "      <td>incident</td>\n",
       "    </tr>\n",
       "    <tr>\n",
       "      <th>3</th>\n",
       "      <td>DUEBLDO1</td>\n",
       "      <td>GDDB02</td>\n",
       "      <td>EUNET/RELEA201</td>\n",
       "      <td>RELEA201</td>\n",
       "      <td>Person</td>\n",
       "      <td>ROLE_GDDB_MANAGER</td>\n",
       "      <td>STANDARD</td>\n",
       "      <td>exeption</td>\n",
       "    </tr>\n",
       "    <tr>\n",
       "      <th>4</th>\n",
       "      <td>DUEBLDO1</td>\n",
       "      <td>GDDB02</td>\n",
       "      <td>EUNET/ADM_RELEA201</td>\n",
       "      <td>RELEA201</td>\n",
       "      <td>Person</td>\n",
       "      <td>ROLE_GDDB_MANAGER</td>\n",
       "      <td>STANDARD</td>\n",
       "      <td>exeption</td>\n",
       "    </tr>\n",
       "  </tbody>\n",
       "</table>\n",
       "</div>"
      ],
      "text/plain": [
       "   USERNAME EVENT_ID      TARGET_ACCOUNT TARGET_UNIQUE_ID TARGET_GENDER  \\\n",
       "0  TROMMRE1   GDDB04      EUNET/BOHNSRO1         BOHNSRO1        Person   \n",
       "1  TROMMRE1   GDDB04      EUNET/KOENIKO1         KOENIKO1        Person   \n",
       "2  COLLAAR1   GDDB04      NANET/CUARTJO1         CUARTJO1        Person   \n",
       "3  DUEBLDO1   GDDB02      EUNET/RELEA201         RELEA201        Person   \n",
       "4  DUEBLDO1   GDDB02  EUNET/ADM_RELEA201         RELEA201        Person   \n",
       "\n",
       "                                   GDDB_ROLE GDDB_ROLE_SPECIAL     LABEL  \n",
       "0  ROLE_GDDB_ADMINISTRATOR - none - HELPDESK          STANDARD  incident  \n",
       "1  ROLE_GDDB_ADMINISTRATOR - none - HELPDESK          STANDARD  incident  \n",
       "2  ROLE_GDDB_ADMINISTRATOR - none - HELPDESK          STANDARD  incident  \n",
       "3                          ROLE_GDDB_MANAGER          STANDARD  exeption  \n",
       "4                          ROLE_GDDB_MANAGER          STANDARD  exeption  "
      ]
     },
     "execution_count": 8,
     "metadata": {},
     "output_type": "execute_result"
    }
   ],
   "source": [
    "data = pd.read_csv('results.csv')\n",
    "data = data.fillna({\"TARGET_ACCOUNT\": \"UNKNOWN\"})\n",
    "data = data.fillna({\"GDDB_ROLE_SPECIAL\": \"STANDARD\"})\n",
    "data.head()"
   ]
  },
  {
   "cell_type": "code",
   "execution_count": 9,
   "metadata": {
    "collapsed": true
   },
   "outputs": [],
   "source": [
    "found = []\n",
    "for index,dta in enumerate (data['TARGET_ACCOUNT']):\n",
    "    m = re.search('/(.+?)_', dta)\n",
    "    if m:\n",
    "        found.append(m.group(1))\n",
    "        data['TARGET_ACCOUNT'][index] = m.group(1)\n",
    "        \n",
    "ulist = list(set(found))"
   ]
  },
  {
   "cell_type": "code",
   "execution_count": 10,
   "metadata": {
    "collapsed": true
   },
   "outputs": [],
   "source": [
    "ta_mapping = dict.fromkeys(ulist)\n",
    "for u in ulist:\n",
    "    ta_mapping[u] = ulist.index(u)+1\n",
    "    \n",
    "data['TARGET_ACCOUNT'] = data['TARGET_ACCOUNT'].map(ta_mapping)\n",
    "data = data.fillna({\"TARGET_ACCOUNT\": 0})\n",
    "\n",
    "uid_mapping = {'PRASAPU1':1,'CHINKE1':1,'BANNENA3':1}\n",
    "data['USERNAME'] = data['USERNAME'].map(uid_mapping)\n",
    "data = data.fillna({\"USERNAME\": 0})\n",
    "\n",
    "eventid_mapping = {'GDDB01':0, 'GDDB02':1, 'GDDB03':2, 'GDDB04':3}\n",
    "data['EVENT_ID'] = data['EVENT_ID'].map(eventid_mapping)\n",
    "\n",
    "tg_mapping = {'Person':0, 'Generic':1}\n",
    "data['TARGET_GENDER'] = data['TARGET_GENDER'].map(tg_mapping)\n",
    "\n",
    "role_mapping = {'ROLE_GDDB_MANAGER':0, 'ROLE_GDDB_ADMINISTRATOR_PLUS':1, 'ROLE_GDDB_ADMINISTRATOR - none - HELPDESK':2, 'ROLE_GDDB_ADMINISTRATOR - none':3}\n",
    "data['GDDB_ROLE'] = data['GDDB_ROLE'].map(role_mapping)\n",
    "\n",
    "srole_mapping = {'ROLE_GDDB_AD':0, 'ROLE_GDDB_LEGAL':1, 'STANDARD':2}\n",
    "data['GDDB_ROLE_SPECIAL'] = data['GDDB_ROLE_SPECIAL'].map(srole_mapping)\n",
    "\n",
    "label_mapping = {'incident':0, 'exeption':1}\n",
    "data['LABEL'] = data['LABEL'].map(label_mapping)\n",
    "\n",
    "data = data.drop('TARGET_UNIQUE_ID',axis=1)"
   ]
  },
  {
   "cell_type": "code",
   "execution_count": 11,
   "metadata": {
    "collapsed": true
   },
   "outputs": [],
   "source": [
    "x_data = data.drop('LABEL',axis=1)\n",
    "labels = data['LABEL']\n",
    "\n",
    "X_train, X_test, y_train, y_test = train_test_split(x_data,labels,test_size=0.3, random_state=101)\n",
    "\n",
    "X = X_train.values\n",
    "Y = y_train.values"
   ]
  },
  {
   "cell_type": "code",
   "execution_count": 12,
   "metadata": {},
   "outputs": [
    {
     "data": {
      "text/plain": [
       "array([[  0.,   1.,   0.,   0.,   0.,   2.],\n",
       "       [  0.,   2.,  13.,   1.,   1.,   0.],\n",
       "       [  0.,   1.,   0.,   0.,   0.,   2.],\n",
       "       ..., \n",
       "       [  0.,   3.,   0.,   0.,   1.,   0.],\n",
       "       [  0.,   1.,   0.,   0.,   0.,   2.],\n",
       "       [  0.,   2.,   0.,   1.,   0.,   2.]])"
      ]
     },
     "execution_count": 12,
     "metadata": {},
     "output_type": "execute_result"
    }
   ],
   "source": [
    "X"
   ]
  },
  {
   "cell_type": "code",
   "execution_count": 23,
   "metadata": {},
   "outputs": [
    {
     "data": {
      "image/png": "[encoded data removed]",
      "text/plain": [
       "<matplotlib.figure.Figure at 0x2a0faccc908>"
      ]
     },
     "metadata": {},
     "output_type": "display_data"
    }
   ],
   "source": [
    "ks = range(1, 6)\n",
    "inertias = []\n",
    "\n",
    "for k in ks:\n",
    "    # Create a KMeans instance with k clusters: model\n",
    "    model = KMeans(n_clusters=k)\n",
    "    \n",
    "    # Fit model to samples\n",
    "    model.fit(X)\n",
    "    \n",
    "    # Append the inertia to the list of inertias\n",
    "    inertias.append(model.inertia_)\n",
    "    \n",
    "# Plot ks vs inertias\n",
    "plt.plot(ks, inertias, '-o')\n",
    "plt.xlabel('number of clusters, k')\n",
    "plt.ylabel('inertia')\n",
    "plt.xticks(ks)\n",
    "plt.show()"
   ]
  },
  {
   "cell_type": "code",
   "execution_count": null,
   "metadata": {
    "collapsed": true
   },
   "outputs": [],
   "source": []
  },
  {
   "cell_type": "code",
   "execution_count": null,
   "metadata": {
    "collapsed": true
   },
   "outputs": [],
   "source": []
  }
 ],
 "metadata": {
  "kernelspec": {
   "display_name": "Python 3",
   "language": "python",
   "name": "python3"
  },
  "language_info": {
   "codemirror_mode": {
    "name": "ipython",
    "version": 3
   },
   "file_extension": ".py",
   "mimetype": "text/x-python",
   "name": "python",
   "nbconvert_exporter": "python",
   "pygments_lexer": "ipython3",
   "version": "3.5.4"
  }
 },
 "nbformat": 4,
 "nbformat_minor": 2
}
